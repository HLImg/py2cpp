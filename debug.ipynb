{
 "cells": [
  {
   "cell_type": "code",
   "execution_count": 25,
   "metadata": {},
   "outputs": [
    {
     "name": "stdout",
     "output_type": "stream",
     "text": [
      "initial [Util] for image processing\n"
     ]
    }
   ],
   "source": [
    "import cv2 as cv\n",
    "import numpy as np\n",
    "import matplotlib.pyplot as plt\n",
    "\n",
    "from scipy.io import loadmat\n",
    "from pybind_util import Util\n",
    "\n",
    "util = Util()\n",
    "\n",
    "import os\n",
    "import math\n",
    "import random\n",
    "import numpy as np\n",
    "import torch\n",
    "import cv2\n",
    "from datetime import datetime\n",
    "from osgeo import gdal\n",
    "\n",
    "def savetiff(path,img):\n",
    "    pixelWidth = 1.0\n",
    "    pixelHeight = -1.0\n",
    "\n",
    "    cols = img.shape[1]\n",
    "    rows = img.shape[0]\n",
    "    if len(img.shape) == 3:\n",
    "        bands = img.shape[2]\n",
    "    else:\n",
    "        bands = 1\n",
    "    originX = 0\n",
    "    originY = 0\n",
    "    driver = gdal.GetDriverByName('GTiff')\n",
    "\n",
    "    outRaster = driver.Create(path, cols, rows, bands, gdal.GDT_UInt16)\n",
    "    outRaster.SetGeoTransform((originX, pixelWidth, 0, originY, 0, pixelHeight))\n",
    "    #开始写入\n",
    "    if bands==1:\n",
    "        outband = outRaster.GetRasterBand(1)\n",
    "        outband.WriteArray(img[:, :,0])\n",
    "    else:\n",
    "        for i in range(bands):\n",
    "            outRaster.GetRasterBand(i + 1).WriteArray(img[:,:,i])"
   ]
  },
  {
   "cell_type": "code",
   "execution_count": 18,
   "metadata": {},
   "outputs": [
    {
     "name": "stdout",
     "output_type": "stream",
     "text": [
      "initial [Util] for image processing\n"
     ]
    }
   ],
   "source": [
    "util = Util()\n",
    "ori = util.read_gdal_mul(\"/data/dataset/project/1-PAN.TIF\")\n",
    "sr = util.read_gdal_mul(\"/data/dataset/project/res/PAN_0.175_old.tiff\")\n",
    "ori = ori / ori.max()\n",
    "sr = sr / sr.max()"
   ]
  },
  {
   "cell_type": "code",
   "execution_count": 27,
   "metadata": {},
   "outputs": [],
   "source": [
    "sr_0 = sr.squeeze()"
   ]
  },
  {
   "cell_type": "code",
   "execution_count": 28,
   "metadata": {},
   "outputs": [
    {
     "data": {
      "text/plain": [
       "(16840, 16840)"
      ]
     },
     "execution_count": 28,
     "metadata": {},
     "output_type": "execute_result"
    }
   ],
   "source": [
    "sr_0.shape"
   ]
  },
  {
   "cell_type": "code",
   "execution_count": 29,
   "metadata": {},
   "outputs": [
    {
     "ename": "IndexError",
     "evalue": "too many indices for array: array is 2-dimensional, but 3 were indexed",
     "output_type": "error",
     "traceback": [
      "\u001b[0;31m---------------------------------------------------------------------------\u001b[0m",
      "\u001b[0;31mIndexError\u001b[0m                                Traceback (most recent call last)",
      "\u001b[1;32m/home/lianghao/Documents/Program/py2cpp/debug.ipynb Cell 5\u001b[0m line \u001b[0;36m1\n\u001b[0;32m----> <a href='vscode-notebook-cell:/home/lianghao/Documents/Program/py2cpp/debug.ipynb#X11sZmlsZQ%3D%3D?line=0'>1</a>\u001b[0m savetiff(\u001b[39m\"\u001b[39;49m\u001b[39m./sr_0.tiff\u001b[39;49m\u001b[39m\"\u001b[39;49m, sr_0)\n",
      "\u001b[1;32m/home/lianghao/Documents/Program/py2cpp/debug.ipynb Cell 5\u001b[0m line \u001b[0;36m3\n\u001b[1;32m     <a href='vscode-notebook-cell:/home/lianghao/Documents/Program/py2cpp/debug.ipynb#X11sZmlsZQ%3D%3D?line=35'>36</a>\u001b[0m \u001b[39mif\u001b[39;00m bands\u001b[39m==\u001b[39m\u001b[39m1\u001b[39m:\n\u001b[1;32m     <a href='vscode-notebook-cell:/home/lianghao/Documents/Program/py2cpp/debug.ipynb#X11sZmlsZQ%3D%3D?line=36'>37</a>\u001b[0m     outband \u001b[39m=\u001b[39m outRaster\u001b[39m.\u001b[39mGetRasterBand(\u001b[39m1\u001b[39m)\n\u001b[0;32m---> <a href='vscode-notebook-cell:/home/lianghao/Documents/Program/py2cpp/debug.ipynb#X11sZmlsZQ%3D%3D?line=37'>38</a>\u001b[0m     outband\u001b[39m.\u001b[39mWriteArray(img[:, :,\u001b[39m0\u001b[39;49m])\n\u001b[1;32m     <a href='vscode-notebook-cell:/home/lianghao/Documents/Program/py2cpp/debug.ipynb#X11sZmlsZQ%3D%3D?line=38'>39</a>\u001b[0m \u001b[39melse\u001b[39;00m:\n\u001b[1;32m     <a href='vscode-notebook-cell:/home/lianghao/Documents/Program/py2cpp/debug.ipynb#X11sZmlsZQ%3D%3D?line=39'>40</a>\u001b[0m     \u001b[39mfor\u001b[39;00m i \u001b[39min\u001b[39;00m \u001b[39mrange\u001b[39m(bands):\n",
      "\u001b[0;31mIndexError\u001b[0m: too many indices for array: array is 2-dimensional, but 3 were indexed"
     ]
    }
   ],
   "source": [
    "savetiff(\"./sr_0.tiff\", sr_0)"
   ]
  },
  {
   "cell_type": "code",
   "execution_count": null,
   "metadata": {},
   "outputs": [],
   "source": []
  }
 ],
 "metadata": {
  "kernelspec": {
   "display_name": "project",
   "language": "python",
   "name": "python3"
  },
  "language_info": {
   "codemirror_mode": {
    "name": "ipython",
    "version": 3
   },
   "file_extension": ".py",
   "mimetype": "text/x-python",
   "name": "python",
   "nbconvert_exporter": "python",
   "pygments_lexer": "ipython3",
   "version": "3.8.13"
  },
  "orig_nbformat": 4
 },
 "nbformat": 4,
 "nbformat_minor": 2
}
