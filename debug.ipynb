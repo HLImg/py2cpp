{
 "cells": [
  {
   "cell_type": "code",
   "execution_count": null,
   "metadata": {},
   "outputs": [],
   "source": [
    "import cv2 as cv\n",
    "import numpy as np\n",
    "import matplotlib.pyplot as plt\n",
    "\n",
    "from scipy.io import loadmat\n",
    "from pybind_util import Util\n",
    "\n",
    "util = Util()"
   ]
  },
  {
   "cell_type": "code",
   "execution_count": null,
   "metadata": {},
   "outputs": [],
   "source": [
    "for i in range(0, 9):\n",
    "    lq = loadmat(f\"test/test_{i}.mat\")['data']\n",
    "    hq = loadmat(f\"test/test_sr{i}.mat\")['data']\n",
    "    lq = lq / lq.max()\n",
    "    hq = hq / hq.max()\n",
    "    plt.figure(dpi=200)\n",
    "    plt.subplot(121), plt.imshow(lq, 'gray'), plt.axis('off'), plt.title('lq')\n",
    "    plt.subplot(122), plt.imshow(hq, 'gray'), plt.axis('off'), plt.title('hq')\n",
    "    plt.show()"
   ]
  }
 ],
 "metadata": {
  "kernelspec": {
   "display_name": "project",
   "language": "python",
   "name": "python3"
  },
  "language_info": {
   "codemirror_mode": {
    "name": "ipython",
    "version": 3
   },
   "file_extension": ".py",
   "mimetype": "text/x-python",
   "name": "python",
   "nbconvert_exporter": "python",
   "pygments_lexer": "ipython3",
   "version": "3.8.13"
  },
  "orig_nbformat": 4
 },
 "nbformat": 4,
 "nbformat_minor": 2
}
